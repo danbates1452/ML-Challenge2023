{
 "cells": [
  {
   "cell_type": "code",
   "execution_count": 1,
   "metadata": {},
   "outputs": [],
   "source": [
    "import numpy as np\n",
    "import pandas as pd\n",
    "import seaborn as sb\n",
    "from sklearn import preprocessing\n",
    "from sklearn import impute\n",
    "from sklearn.model_selection import train_test_split\n",
    "from sklearn.feature_selection import VarianceThreshold\n",
    "from sklearn import metrics\n",
    "from sklearn.svm import SVC, LinearSVC\n",
    "from sklearn.linear_model import LogisticRegression, LinearRegression\n",
    "from sklearn.neural_network import MLPClassifier\n",
    "from sklearn.ensemble import RandomForestClassifier\n",
    "\n",
    "import matplotlib.pyplot as plt"
   ]
  },
  {
   "cell_type": "code",
   "execution_count": 75,
   "metadata": {},
   "outputs": [],
   "source": [
    "#Load in training data\n",
    "raw_data = pd.read_csv('./data/movementSensorData.csv')\n",
    "\n",
    "time = raw_data.iloc[:, 2] # just time\n",
    "data = raw_data.iloc[:, 3:5] #data minus activity\n",
    "labels = raw_data.iloc[:, 1] #just activity"
   ]
  },
  {
   "cell_type": "code",
   "execution_count": 76,
   "metadata": {},
   "outputs": [
    {
     "data": {
      "text/plain": [
       "0         2\n",
       "1         2\n",
       "2         2\n",
       "3         2\n",
       "4         2\n",
       "         ..\n",
       "507822    1\n",
       "507823    1\n",
       "507824    1\n",
       "507825    1\n",
       "507826    1\n",
       "Name: activity, Length: 507827, dtype: int64"
      ]
     },
     "execution_count": 76,
     "metadata": {},
     "output_type": "execute_result"
    }
   ],
   "source": [
    "labels"
   ]
  },
  {
   "cell_type": "markdown",
   "metadata": {},
   "source": [
    "Pre-processing"
   ]
  },
  {
   "cell_type": "code",
   "execution_count": 16,
   "metadata": {},
   "outputs": [],
   "source": [
    "#imputing if necessary\n",
    "#Impute missing data using K Nearest Neighbours (n=5)\n",
    "#imputer = impute.KNNImputer(missing_values=np.nan, n_neighbors=5)\n",
    "#imputed_data = pd.DataFrame(imputer.fit_transform(all_data))"
   ]
  },
  {
   "cell_type": "code",
   "execution_count": 3,
   "metadata": {},
   "outputs": [],
   "source": [
    "normaliser = preprocessing.Normalizer()\n",
    "data = pd.DataFrame(normaliser.fit_transform(data))"
   ]
  },
  {
   "cell_type": "code",
   "execution_count": 4,
   "metadata": {},
   "outputs": [],
   "source": [
    "#scale std and mean\n",
    "scaler = preprocessing.StandardScaler()\n",
    "data = pd.DataFrame(scaler.fit_transform(data))"
   ]
  },
  {
   "cell_type": "code",
   "execution_count": 19,
   "metadata": {},
   "outputs": [],
   "source": [
    "#feature selection if necessary\n",
    "#selector = VarianceThreshold()\n",
    "#feature_selected_data = selector.fit_transform(scaled_data, all_labels)"
   ]
  },
  {
   "cell_type": "code",
   "execution_count": 20,
   "metadata": {},
   "outputs": [],
   "source": [
    "#Time clustering (group together multiple datapoints in the same timeframe)"
   ]
  },
  {
   "cell_type": "markdown",
   "metadata": {},
   "source": [
    "Validation"
   ]
  },
  {
   "cell_type": "code",
   "execution_count": 6,
   "metadata": {},
   "outputs": [],
   "source": [
    "tdata, vdata, tlabels, vlabels = train_test_split(data, labels, test_size=0.2, shuffle=True, random_state=1452) #get train test split"
   ]
  },
  {
   "cell_type": "code",
   "execution_count": 37,
   "metadata": {},
   "outputs": [
    {
     "name": "stdout",
     "output_type": "stream",
     "text": [
      "tdata:                0         1\n",
      "76145  -1.176566 -0.630860\n",
      "418122  1.591578  0.024188\n",
      "240024 -0.162593 -1.613086\n",
      "498697  0.041873  1.248620\n",
      "475025  1.367180  0.610771\n",
      "tlabels: 76145     4\n",
      "418122    4\n",
      "240024    1\n",
      "498697    1\n",
      "475025    4\n",
      "Name: activity, dtype: int64\n",
      "vdata:                0         1\n",
      "347462 -1.229586 -0.023279\n",
      "30110   0.172311 -1.656867\n",
      "154286  1.097513  0.917149\n",
      "72619  -1.018151  0.580335\n",
      "340564 -1.236782 -0.100096\n",
      "vlabels: 347462    4\n",
      "30110     1\n",
      "154286    4\n",
      "72619     4\n",
      "340564    4\n",
      "Name: activity, dtype: int64\n"
     ]
    }
   ],
   "source": [
    "print('tdata:', tdata.head(5))\n",
    "print('tlabels:', tlabels.head(5))\n",
    "print('vdata:', vdata.head(5))\n",
    "print('vlabels:', vlabels.head(5))"
   ]
  },
  {
   "cell_type": "code",
   "execution_count": 8,
   "metadata": {},
   "outputs": [],
   "source": [
    "names = ['Linear Regression']\n",
    "classifiers = [\n",
    "  LinearRegression()\n",
    "]"
   ]
  },
  {
   "cell_type": "code",
   "execution_count": 80,
   "metadata": {},
   "outputs": [],
   "source": [
    "def accuracy(truth, predictions):\n",
    "    count = 0\n",
    "    for i, gt in enumerate(truth):\n",
    "        if predictions[i] is not int:\n",
    "            predictions[i] = round(predictions[i])\n",
    "        if gt == predictions[i]:\n",
    "            count += 1\n",
    "    return round((count / len(truth))* 100, 2)"
   ]
  },
  {
   "cell_type": "code",
   "execution_count": 81,
   "metadata": {},
   "outputs": [
    {
     "name": "stdout",
     "output_type": "stream",
     "text": [
      "[4.4307089  2.48336669 4.86903812 ... 2.46059841 2.44949754 4.4815458 ]\n"
     ]
    },
    {
     "data": {
      "text/plain": [
       "20.4"
      ]
     },
     "execution_count": 81,
     "metadata": {},
     "output_type": "execute_result"
    }
   ],
   "source": [
    "lr_model = LinearRegression()\n",
    "lr_model.fit(tdata, tlabels)\n",
    "pred = lr_model.predict(vdata)\n",
    "print(pred)\n",
    "accuracy(vlabels, pred)\n"
   ]
  },
  {
   "cell_type": "code",
   "execution_count": null,
   "metadata": {},
   "outputs": [],
   "source": [
    "#final_pred.to_csv(filepath + 'predictions.csv', index=False)"
   ]
  }
 ],
 "metadata": {
  "kernelspec": {
   "display_name": "Python 3",
   "language": "python",
   "name": "python3"
  },
  "language_info": {
   "codemirror_mode": {
    "name": "ipython",
    "version": 3
   },
   "file_extension": ".py",
   "mimetype": "text/x-python",
   "name": "python",
   "nbconvert_exporter": "python",
   "pygments_lexer": "ipython3",
   "version": "3.8.10"
  }
 },
 "nbformat": 4,
 "nbformat_minor": 2
}
